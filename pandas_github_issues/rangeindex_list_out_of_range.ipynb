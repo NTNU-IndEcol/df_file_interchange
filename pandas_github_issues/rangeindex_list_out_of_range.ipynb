{
 "cells": [
  {
   "cell_type": "code",
   "execution_count": 1,
   "metadata": {},
   "outputs": [],
   "source": [
    "import pandas as pd\n",
    "import numpy as np\n",
    "from pathlib import Path"
   ]
  },
  {
   "cell_type": "code",
   "execution_count": 88,
   "metadata": {},
   "outputs": [],
   "source": [
    "# Create a simple df with a RangeIndex for the columns. N.B. The RangeIndex\n",
    "# start and stop have the same sign.\n",
    "range_idx = pd.RangeIndex(start=-10, stop=5, step=1)\n",
    "df = pd.DataFrame(np.random.randn(3, len(range_idx)), columns=range_idx)"
   ]
  },
  {
   "cell_type": "code",
   "execution_count": 89,
   "metadata": {},
   "outputs": [
    {
     "data": {
      "text/html": [
       "<div>\n",
       "<style scoped>\n",
       "    .dataframe tbody tr th:only-of-type {\n",
       "        vertical-align: middle;\n",
       "    }\n",
       "\n",
       "    .dataframe tbody tr th {\n",
       "        vertical-align: top;\n",
       "    }\n",
       "\n",
       "    .dataframe thead th {\n",
       "        text-align: right;\n",
       "    }\n",
       "</style>\n",
       "<table border=\"1\" class=\"dataframe\">\n",
       "  <thead>\n",
       "    <tr style=\"text-align: right;\">\n",
       "      <th></th>\n",
       "      <th>-10</th>\n",
       "      <th>-9</th>\n",
       "      <th>-8</th>\n",
       "      <th>-7</th>\n",
       "      <th>-6</th>\n",
       "      <th>-5</th>\n",
       "      <th>-4</th>\n",
       "      <th>-3</th>\n",
       "      <th>-2</th>\n",
       "      <th>-1</th>\n",
       "      <th>0</th>\n",
       "      <th>1</th>\n",
       "      <th>2</th>\n",
       "      <th>3</th>\n",
       "      <th>4</th>\n",
       "    </tr>\n",
       "  </thead>\n",
       "  <tbody>\n",
       "    <tr>\n",
       "      <th>0</th>\n",
       "      <td>-0.227414</td>\n",
       "      <td>0.721430</td>\n",
       "      <td>0.277099</td>\n",
       "      <td>-0.816190</td>\n",
       "      <td>1.084294</td>\n",
       "      <td>1.223559</td>\n",
       "      <td>-0.004379</td>\n",
       "      <td>0.008705</td>\n",
       "      <td>-0.040400</td>\n",
       "      <td>0.868254</td>\n",
       "      <td>-1.407384</td>\n",
       "      <td>0.917585</td>\n",
       "      <td>0.931832</td>\n",
       "      <td>-1.100775</td>\n",
       "      <td>-0.304956</td>\n",
       "    </tr>\n",
       "    <tr>\n",
       "      <th>1</th>\n",
       "      <td>-1.221470</td>\n",
       "      <td>0.598384</td>\n",
       "      <td>-1.487662</td>\n",
       "      <td>1.334450</td>\n",
       "      <td>-0.214701</td>\n",
       "      <td>0.504657</td>\n",
       "      <td>-1.647242</td>\n",
       "      <td>0.087191</td>\n",
       "      <td>-0.414918</td>\n",
       "      <td>-0.528680</td>\n",
       "      <td>-0.649752</td>\n",
       "      <td>0.229711</td>\n",
       "      <td>0.450972</td>\n",
       "      <td>-0.720574</td>\n",
       "      <td>0.898889</td>\n",
       "    </tr>\n",
       "    <tr>\n",
       "      <th>2</th>\n",
       "      <td>1.113937</td>\n",
       "      <td>2.331226</td>\n",
       "      <td>-0.294010</td>\n",
       "      <td>-0.247962</td>\n",
       "      <td>-0.411885</td>\n",
       "      <td>0.073908</td>\n",
       "      <td>-0.007233</td>\n",
       "      <td>0.288117</td>\n",
       "      <td>0.193494</td>\n",
       "      <td>0.294823</td>\n",
       "      <td>0.527706</td>\n",
       "      <td>-1.103015</td>\n",
       "      <td>0.382390</td>\n",
       "      <td>1.141753</td>\n",
       "      <td>0.677882</td>\n",
       "    </tr>\n",
       "  </tbody>\n",
       "</table>\n",
       "</div>"
      ],
      "text/plain": [
       "        -10       -9        -8        -7        -6        -5        -4   \\\n",
       "0 -0.227414  0.721430  0.277099 -0.816190  1.084294  1.223559 -0.004379   \n",
       "1 -1.221470  0.598384 -1.487662  1.334450 -0.214701  0.504657 -1.647242   \n",
       "2  1.113937  2.331226 -0.294010 -0.247962 -0.411885  0.073908 -0.007233   \n",
       "\n",
       "        -3        -2        -1        0         1         2         3    \\\n",
       "0  0.008705 -0.040400  0.868254 -1.407384  0.917585  0.931832 -1.100775   \n",
       "1  0.087191 -0.414918 -0.528680 -0.649752  0.229711  0.450972 -0.720574   \n",
       "2  0.288117  0.193494  0.294823  0.527706 -1.103015  0.382390  1.141753   \n",
       "\n",
       "        4    \n",
       "0 -0.304956  \n",
       "1  0.898889  \n",
       "2  0.677882  "
      ]
     },
     "execution_count": 89,
     "metadata": {},
     "output_type": "execute_result"
    }
   ],
   "source": [
    "df"
   ]
  },
  {
   "cell_type": "code",
   "execution_count": 90,
   "metadata": {},
   "outputs": [],
   "source": [
    "csv_file = Path(\"./data/test_range_index.csv\")\n",
    "csv_file.parent.mkdir(exist_ok=True)"
   ]
  },
  {
   "cell_type": "code",
   "execution_count": 91,
   "metadata": {},
   "outputs": [],
   "source": [
    "df.to_csv(\n",
    "    csv_file,\n",
    "    header=True,\n",
    "    index=True,\n",
    ")"
   ]
  },
  {
   "cell_type": "code",
   "execution_count": 92,
   "metadata": {},
   "outputs": [
    {
     "data": {
      "text/plain": [
       "{-10: 'float64',\n",
       " -9: 'float64',\n",
       " -8: 'float64',\n",
       " -7: 'float64',\n",
       " -6: 'float64',\n",
       " -5: 'float64',\n",
       " -4: 'float64',\n",
       " -3: 'float64',\n",
       " -2: 'float64',\n",
       " -1: 'float64',\n",
       " 0: 'float64',\n",
       " 1: 'float64',\n",
       " 2: 'float64',\n",
       " 3: 'float64',\n",
       " 4: 'float64'}"
      ]
     },
     "execution_count": 92,
     "metadata": {},
     "output_type": "execute_result"
    }
   ],
   "source": [
    "dtype_spec  = {}\n",
    "for v in range_idx:\n",
    "    dtype_spec[v] = \"float64\"\n",
    "    # dtype_spec[f\"{v}\"] = \"float64\"   # * Alternatively, convert to str, which works\n",
    "\n",
    "dtype_spec"
   ]
  },
  {
   "cell_type": "code",
   "execution_count": 97,
   "metadata": {},
   "outputs": [],
   "source": [
    "df_reload = pd.read_csv(\n",
    "    csv_file,\n",
    "    header=0,\n",
    "    index_col=0,\n",
    "    float_precision='round_trip',\n",
    "    dtype=dtype_spec,\n",
    ")"
   ]
  },
  {
   "cell_type": "code",
   "execution_count": 98,
   "metadata": {},
   "outputs": [
    {
     "data": {
      "text/html": [
       "<div>\n",
       "<style scoped>\n",
       "    .dataframe tbody tr th:only-of-type {\n",
       "        vertical-align: middle;\n",
       "    }\n",
       "\n",
       "    .dataframe tbody tr th {\n",
       "        vertical-align: top;\n",
       "    }\n",
       "\n",
       "    .dataframe thead th {\n",
       "        text-align: right;\n",
       "    }\n",
       "</style>\n",
       "<table border=\"1\" class=\"dataframe\">\n",
       "  <thead>\n",
       "    <tr style=\"text-align: right;\">\n",
       "      <th></th>\n",
       "      <th>-10</th>\n",
       "      <th>-9</th>\n",
       "      <th>-8</th>\n",
       "      <th>-7</th>\n",
       "      <th>-6</th>\n",
       "      <th>-5</th>\n",
       "      <th>-4</th>\n",
       "      <th>-3</th>\n",
       "      <th>-2</th>\n",
       "      <th>-1</th>\n",
       "      <th>0</th>\n",
       "      <th>1</th>\n",
       "      <th>2</th>\n",
       "      <th>3</th>\n",
       "      <th>4</th>\n",
       "    </tr>\n",
       "  </thead>\n",
       "  <tbody>\n",
       "    <tr>\n",
       "      <th>0.0</th>\n",
       "      <td>-0.227414</td>\n",
       "      <td>0.721430</td>\n",
       "      <td>0.277099</td>\n",
       "      <td>-0.816190</td>\n",
       "      <td>1.084294</td>\n",
       "      <td>1.223559</td>\n",
       "      <td>-0.004379</td>\n",
       "      <td>0.008705</td>\n",
       "      <td>-0.040400</td>\n",
       "      <td>0.868254</td>\n",
       "      <td>-1.407384</td>\n",
       "      <td>0.917585</td>\n",
       "      <td>0.931832</td>\n",
       "      <td>-1.100775</td>\n",
       "      <td>-0.304956</td>\n",
       "    </tr>\n",
       "    <tr>\n",
       "      <th>1.0</th>\n",
       "      <td>-1.221470</td>\n",
       "      <td>0.598384</td>\n",
       "      <td>-1.487662</td>\n",
       "      <td>1.334450</td>\n",
       "      <td>-0.214701</td>\n",
       "      <td>0.504657</td>\n",
       "      <td>-1.647242</td>\n",
       "      <td>0.087191</td>\n",
       "      <td>-0.414918</td>\n",
       "      <td>-0.528680</td>\n",
       "      <td>-0.649752</td>\n",
       "      <td>0.229711</td>\n",
       "      <td>0.450972</td>\n",
       "      <td>-0.720574</td>\n",
       "      <td>0.898889</td>\n",
       "    </tr>\n",
       "    <tr>\n",
       "      <th>2.0</th>\n",
       "      <td>1.113937</td>\n",
       "      <td>2.331226</td>\n",
       "      <td>-0.294010</td>\n",
       "      <td>-0.247962</td>\n",
       "      <td>-0.411885</td>\n",
       "      <td>0.073908</td>\n",
       "      <td>-0.007233</td>\n",
       "      <td>0.288117</td>\n",
       "      <td>0.193494</td>\n",
       "      <td>0.294823</td>\n",
       "      <td>0.527706</td>\n",
       "      <td>-1.103015</td>\n",
       "      <td>0.382390</td>\n",
       "      <td>1.141753</td>\n",
       "      <td>0.677882</td>\n",
       "    </tr>\n",
       "  </tbody>\n",
       "</table>\n",
       "</div>"
      ],
      "text/plain": [
       "          -10        -9        -8        -7        -6        -5        -4  \\\n",
       "0.0 -0.227414  0.721430  0.277099 -0.816190  1.084294  1.223559 -0.004379   \n",
       "1.0 -1.221470  0.598384 -1.487662  1.334450 -0.214701  0.504657 -1.647242   \n",
       "2.0  1.113937  2.331226 -0.294010 -0.247962 -0.411885  0.073908 -0.007233   \n",
       "\n",
       "           -3        -2        -1         0         1         2         3  \\\n",
       "0.0  0.008705 -0.040400  0.868254 -1.407384  0.917585  0.931832 -1.100775   \n",
       "1.0  0.087191 -0.414918 -0.528680 -0.649752  0.229711  0.450972 -0.720574   \n",
       "2.0  0.288117  0.193494  0.294823  0.527706 -1.103015  0.382390  1.141753   \n",
       "\n",
       "            4  \n",
       "0.0 -0.304956  \n",
       "1.0  0.898889  \n",
       "2.0  0.677882  "
      ]
     },
     "execution_count": 98,
     "metadata": {},
     "output_type": "execute_result"
    }
   ],
   "source": [
    "df_reload"
   ]
  },
  {
   "cell_type": "code",
   "execution_count": 99,
   "metadata": {},
   "outputs": [
    {
     "data": {
      "text/plain": [
       "-10    float64\n",
       "-9     float64\n",
       "-8     float64\n",
       "-7     float64\n",
       "-6     float64\n",
       "-5     float64\n",
       "-4     float64\n",
       "-3     float64\n",
       "-2     float64\n",
       "-1     float64\n",
       "0      float64\n",
       "1      float64\n",
       "2      float64\n",
       "3      float64\n",
       "4      float64\n",
       "dtype: object"
      ]
     },
     "execution_count": 99,
     "metadata": {},
     "output_type": "execute_result"
    }
   ],
   "source": [
    "df_reload.dtypes"
   ]
  },
  {
   "cell_type": "code",
   "execution_count": 100,
   "metadata": {},
   "outputs": [
    {
     "data": {
      "text/plain": [
       "Index(['-10', '-9', '-8', '-7', '-6', '-5', '-4', '-3', '-2', '-1', '0', '1',\n",
       "       '2', '3', '4'],\n",
       "      dtype='object')"
      ]
     },
     "execution_count": 100,
     "metadata": {},
     "output_type": "execute_result"
    }
   ],
   "source": [
    "df_reload.columns"
   ]
  },
  {
   "cell_type": "code",
   "execution_count": null,
   "metadata": {},
   "outputs": [],
   "source": []
  },
  {
   "cell_type": "code",
   "execution_count": null,
   "metadata": {},
   "outputs": [],
   "source": []
  }
 ],
 "metadata": {
  "kernelspec": {
   "display_name": "exio-datamanager",
   "language": "python",
   "name": "python3"
  },
  "language_info": {
   "codemirror_mode": {
    "name": "ipython",
    "version": 3
   },
   "file_extension": ".py",
   "mimetype": "text/x-python",
   "name": "python",
   "nbconvert_exporter": "python",
   "pygments_lexer": "ipython3",
   "version": "3.11.8"
  }
 },
 "nbformat": 4,
 "nbformat_minor": 2
}

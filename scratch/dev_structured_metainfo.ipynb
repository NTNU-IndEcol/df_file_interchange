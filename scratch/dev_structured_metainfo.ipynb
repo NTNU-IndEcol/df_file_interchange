{
 "cells": [
  {
   "cell_type": "code",
   "execution_count": 1,
   "metadata": {},
   "outputs": [
    {
     "name": "stdout",
     "output_type": "stream",
     "text": [
      "['/home/peterma/exio_dev/repo/df_file_interchange/scratch',\n",
      " '/home/peterma/miniconda3/envs/df-file-interchange/lib/python311.zip',\n",
      " '/home/peterma/miniconda3/envs/df-file-interchange/lib/python3.11',\n",
      " '/home/peterma/miniconda3/envs/df-file-interchange/lib/python3.11/lib-dynload',\n",
      " '',\n",
      " '/home/peterma/miniconda3/envs/df-file-interchange/lib/python3.11/site-packages',\n",
      " '/home/peterma/exio_dev/repo/df_file_interchange']\n"
     ]
    }
   ],
   "source": [
    "import os\n",
    "import sys\n",
    "import pandas as pd\n",
    "import numpy as np\n",
    "from pathlib import Path\n",
    "from pprint import pprint\n",
    "\n",
    "sys.path.append(str(Path(\"../\").resolve()))\n",
    "pprint(sys.path)\n",
    "\n",
    "import df_file_interchange as fi\n"
   ]
  },
  {
   "cell_type": "code",
   "execution_count": null,
   "metadata": {},
   "outputs": [],
   "source": []
  },
  {
   "cell_type": "code",
   "execution_count": null,
   "metadata": {},
   "outputs": [],
   "source": []
  },
  {
   "cell_type": "code",
   "execution_count": 2,
   "metadata": {},
   "outputs": [],
   "source": [
    "unit_cur_a = fi.ci.unit.currency.FICurrencyUnit(unit_desc=\"USD\", unit_multiplier=1000)\n",
    "unit_cur_b = fi.ci.unit.currency.FICurrencyUnit(unit_desc=\"EUR\", unit_multiplier=1000)\n",
    "unit_cur_c = fi.ci.unit.currency.FICurrencyUnit(unit_desc=\"JPY\", unit_multiplier=1000000)\n",
    "unit_cur_d = fi.ci.unit.currency.FICurrencyUnit(unit_desc=\"USD\", unit_multiplier=1000)\n",
    "\n",
    "extra_info = fi.ci.structured.FIStdExtraInfo(author=\"shug\")"
   ]
  },
  {
   "cell_type": "code",
   "execution_count": 3,
   "metadata": {},
   "outputs": [],
   "source": [
    "cust_info = fi.ci.structured.FIStructuredCustomInfo(extra_info=extra_info, col_units={\"a\": unit_cur_a, \"b\": unit_cur_b, \"c\": unit_cur_c, \"d\": unit_cur_d})"
   ]
  },
  {
   "cell_type": "code",
   "execution_count": 4,
   "metadata": {},
   "outputs": [
    {
     "data": {
      "text/plain": [
       "{'unstructured_data': {},\n",
       " 'extra_info': {'classname': 'FIStdExtraInfo'},\n",
       " 'col_units': {'a': {'unit_desc': 'USD',\n",
       "   'unit_multiplier': 1000.0,\n",
       "   'classname': 'FICurrencyUnit'},\n",
       "  'b': {'unit_desc': 'EUR',\n",
       "   'unit_multiplier': 1000.0,\n",
       "   'classname': 'FICurrencyUnit'},\n",
       "  'c': {'unit_desc': 'JPY',\n",
       "   'unit_multiplier': 1000000.0,\n",
       "   'classname': 'FICurrencyUnit'},\n",
       "  'd': {'unit_desc': 'USD',\n",
       "   'unit_multiplier': 1000.0,\n",
       "   'classname': 'FICurrencyUnit'}}}"
      ]
     },
     "execution_count": 4,
     "metadata": {},
     "output_type": "execute_result"
    }
   ],
   "source": [
    "cust_info.model_dump()"
   ]
  },
  {
   "cell_type": "code",
   "execution_count": null,
   "metadata": {},
   "outputs": [],
   "source": []
  }
 ],
 "metadata": {
  "kernelspec": {
   "display_name": "df-file-interchange",
   "language": "python",
   "name": "python3"
  },
  "language_info": {
   "codemirror_mode": {
    "name": "ipython",
    "version": 3
   },
   "file_extension": ".py",
   "mimetype": "text/x-python",
   "name": "python",
   "nbconvert_exporter": "python",
   "pygments_lexer": "ipython3",
   "version": "3.11.8"
  }
 },
 "nbformat": 4,
 "nbformat_minor": 2
}

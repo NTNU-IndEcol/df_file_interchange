{
 "cells": [
  {
   "cell_type": "code",
   "execution_count": 1,
   "metadata": {},
   "outputs": [
    {
     "name": "stdout",
     "output_type": "stream",
     "text": [
      "['/home/peterma/exio_dev/repo/df_file_interchange/scratch',\n",
      " '/home/peterma/miniconda3/envs/df-file-interchange/lib/python311.zip',\n",
      " '/home/peterma/miniconda3/envs/df-file-interchange/lib/python3.11',\n",
      " '/home/peterma/miniconda3/envs/df-file-interchange/lib/python3.11/lib-dynload',\n",
      " '',\n",
      " '/home/peterma/miniconda3/envs/df-file-interchange/lib/python3.11/site-packages',\n",
      " '/home/peterma/exio_dev/repo/df_file_interchange']\n"
     ]
    }
   ],
   "source": [
    "import os\n",
    "import sys\n",
    "import pandas as pd\n",
    "import numpy as np\n",
    "from pathlib import Path\n",
    "from pprint import pprint\n",
    "\n",
    "sys.path.append(str(Path(\"../\").resolve()))\n",
    "pprint(sys.path)\n",
    "\n",
    "import df_file_interchange as fi\n"
   ]
  },
  {
   "cell_type": "code",
   "execution_count": null,
   "metadata": {},
   "outputs": [],
   "source": []
  },
  {
   "cell_type": "code",
   "execution_count": null,
   "metadata": {},
   "outputs": [],
   "source": []
  },
  {
   "cell_type": "code",
   "execution_count": 2,
   "metadata": {},
   "outputs": [],
   "source": [
    "unit_cur_a = fi.ci.unit.currency.FICurrencyUnit(unit_desc=\"USD\", unit_multiplier=1000)\n",
    "unit_cur_b = fi.ci.unit.currency.FICurrencyUnit(unit_desc=\"EUR\", unit_multiplier=1000)\n",
    "unit_cur_c = fi.ci.unit.currency.FICurrencyUnit(unit_desc=\"JPY\", unit_multiplier=1000000)\n",
    "unit_cur_d = fi.ci.unit.currency.FICurrencyUnit(unit_desc=\"USD\", unit_multiplier=1000)\n",
    "\n",
    "extra_info = fi.ci.structured.FIStdExtraInfo(author=\"shug\")"
   ]
  },
  {
   "cell_type": "code",
   "execution_count": 3,
   "metadata": {},
   "outputs": [
    {
     "name": "stdout",
     "output_type": "stream",
     "text": [
      "ValidationInfo(config={'title': 'FIStructuredCustomInfo'}, context=None, data={'unstructured_data': {}}, field_name='extra_info')\n",
      "ValidationInfo(config={'title': 'FIStructuredCustomInfo'}, context=None, data={'unstructured_data': {}, 'extra_info': FIStdExtraInfo(author='shug', classname='FIStdExtraInfo')}, field_name='col_units')\n"
     ]
    }
   ],
   "source": [
    "cust_info = fi.ci.structured.FIStructuredCustomInfo(extra_info=extra_info, col_units={\"a\": unit_cur_a, \"b\": unit_cur_b, \"c\": unit_cur_c, \"d\": unit_cur_d})"
   ]
  },
  {
   "cell_type": "code",
   "execution_count": 4,
   "metadata": {},
   "outputs": [
    {
     "data": {
      "text/plain": [
       "{'unstructured_data': {},\n",
       " 'extra_info': {'author': 'shug', 'classname': 'FIStdExtraInfo'},\n",
       " 'col_units': {'a': {'unit_desc': 'USD',\n",
       "   'unit_multiplier': 1000.0,\n",
       "   'classname': 'FICurrencyUnit'},\n",
       "  'b': {'unit_desc': 'EUR',\n",
       "   'unit_multiplier': 1000.0,\n",
       "   'classname': 'FICurrencyUnit'},\n",
       "  'c': {'unit_desc': 'JPY',\n",
       "   'unit_multiplier': 1000000.0,\n",
       "   'classname': 'FICurrencyUnit'},\n",
       "  'd': {'unit_desc': 'USD',\n",
       "   'unit_multiplier': 1000.0,\n",
       "   'classname': 'FICurrencyUnit'}}}"
      ]
     },
     "execution_count": 4,
     "metadata": {},
     "output_type": "execute_result"
    }
   ],
   "source": [
    "serialized_cust_info = cust_info.model_dump()\n",
    "serialized_cust_info"
   ]
  },
  {
   "cell_type": "code",
   "execution_count": null,
   "metadata": {},
   "outputs": [],
   "source": []
  },
  {
   "cell_type": "code",
   "execution_count": null,
   "metadata": {},
   "outputs": [],
   "source": []
  },
  {
   "cell_type": "code",
   "execution_count": 5,
   "metadata": {},
   "outputs": [
    {
     "name": "stdout",
     "output_type": "stream",
     "text": [
      "ValidationInfo(config={'title': 'FIStructuredCustomInfo'}, context={'clss_extra_info': {'FIStdExtraInfo': <class 'df_file_interchange.ci.structured.FIStdExtraInfo'>}, 'clss_col_units': {'FIBaseUnit': <class 'df_file_interchange.ci.unit.base.FIBaseUnit'>, 'FICurrencyUnit': <class 'df_file_interchange.ci.unit.currency.FICurrencyUnit'>}}, data={'unstructured_data': {}}, field_name='extra_info')\n",
      "ValidationInfo(config={'title': 'FIStructuredCustomInfo'}, context={'clss_extra_info': {'FIStdExtraInfo': <class 'df_file_interchange.ci.structured.FIStdExtraInfo'>}, 'clss_col_units': {'FIBaseUnit': <class 'df_file_interchange.ci.unit.base.FIBaseUnit'>, 'FICurrencyUnit': <class 'df_file_interchange.ci.unit.currency.FICurrencyUnit'>}}, data={'unstructured_data': {}, 'extra_info': FIStdExtraInfo(author='shug', classname='FIStdExtraInfo')}, field_name='col_units')\n"
     ]
    }
   ],
   "source": [
    "# del serialized_cust_info[\"col_units\"]\n",
    "# new_cust_info = fi.ci.structured.FIStructuredCustomInfo(**serialized_cust_info)\n",
    "ctx_cust_info = {\n",
    "    \"clss_extra_info\": {\n",
    "        \"FIStdExtraInfo\": fi.ci.structured.FIStdExtraInfo,\n",
    "    },\n",
    "    \"clss_col_units\": {\n",
    "        \"FIBaseUnit\": fi.ci.unit.base.FIBaseUnit,\n",
    "        \"FICurrencyUnit\": fi.ci.unit.currency.FICurrencyUnit,\n",
    "    },\n",
    "}\n",
    "\n",
    "\n",
    "new_cust_info = fi.ci.structured.FIStructuredCustomInfo.model_validate(serialized_cust_info, context=ctx_cust_info)\n",
    "\n",
    "# with fi.file.rw.init_context(ctx_cust_info):\n",
    "#     new_cust_info = fi.ci.structured.FIStructuredCustomInfo(**serialized_cust_info)"
   ]
  },
  {
   "cell_type": "code",
   "execution_count": 6,
   "metadata": {},
   "outputs": [
    {
     "data": {
      "text/plain": [
       "FIStructuredCustomInfo(unstructured_data={}, extra_info=FIStdExtraInfo(author='shug', classname='FIStdExtraInfo'), col_units={'a': FICurrencyUnit(unit_desc='USD', unit_multiplier=1000.0, classname='FICurrencyUnit'), 'b': FICurrencyUnit(unit_desc='EUR', unit_multiplier=1000.0, classname='FICurrencyUnit'), 'c': FICurrencyUnit(unit_desc='JPY', unit_multiplier=1000000.0, classname='FICurrencyUnit'), 'd': FICurrencyUnit(unit_desc='USD', unit_multiplier=1000.0, classname='FICurrencyUnit')})"
      ]
     },
     "execution_count": 6,
     "metadata": {},
     "output_type": "execute_result"
    }
   ],
   "source": [
    "new_cust_info"
   ]
  },
  {
   "cell_type": "code",
   "execution_count": null,
   "metadata": {},
   "outputs": [
    {
     "data": {
      "text/plain": [
       "{'unstructured_data': {},\n",
       " 'extra_info': {'author': 'shug', 'classname': 'FIStdExtraInfo'},\n",
       " 'col_units': {'a': {'unit_desc': 'USD',\n",
       "   'unit_multiplier': 1000.0,\n",
       "   'classname': 'FICurrencyUnit'},\n",
       "  'b': {'unit_desc': 'EUR',\n",
       "   'unit_multiplier': 1000.0,\n",
       "   'classname': 'FICurrencyUnit'},\n",
       "  'c': {'unit_desc': 'JPY',\n",
       "   'unit_multiplier': 1000000.0,\n",
       "   'classname': 'FICurrencyUnit'},\n",
       "  'd': {'unit_desc': 'USD',\n",
       "   'unit_multiplier': 1000.0,\n",
       "   'classname': 'FICurrencyUnit'}}}"
      ]
     },
     "execution_count": 10,
     "metadata": {},
     "output_type": "execute_result"
    }
   ],
   "source": [
    "new_cust_info.model_dump()"
   ]
  },
  {
   "cell_type": "code",
   "execution_count": null,
   "metadata": {},
   "outputs": [],
   "source": []
  },
  {
   "cell_type": "code",
   "execution_count": null,
   "metadata": {},
   "outputs": [
    {
     "name": "stdout",
     "output_type": "stream",
     "text": [
      "text='This is an example document'\n",
      "text='example document'\n"
     ]
    }
   ],
   "source": [
    "from pydantic import BaseModel, ValidationInfo, field_validator\n",
    "\n",
    "class Model(BaseModel):\n",
    "    text: str\n",
    "\n",
    "    @field_validator('text')\n",
    "    @classmethod\n",
    "    def remove_stopwords(cls, v: str, info: ValidationInfo):\n",
    "        context = info.context\n",
    "        if context:\n",
    "            stopwords = context.get('stopwords', set())\n",
    "            v = ' '.join(w for w in v.split() if w.lower() not in stopwords)\n",
    "        return v\n",
    "\n",
    "\n",
    "data = {'text': 'This is an example document'}\n",
    "print(Model.model_validate(data))  # no context\n",
    "#> text='This is an example document'\n",
    "print(Model.model_validate(data, context={'stopwords': ['this', 'is', 'an']}))"
   ]
  },
  {
   "cell_type": "code",
   "execution_count": null,
   "metadata": {},
   "outputs": [],
   "source": []
  }
 ],
 "metadata": {
  "kernelspec": {
   "display_name": "df-file-interchange",
   "language": "python",
   "name": "python3"
  },
  "language_info": {
   "codemirror_mode": {
    "name": "ipython",
    "version": 3
   },
   "file_extension": ".py",
   "mimetype": "text/x-python",
   "name": "python",
   "nbconvert_exporter": "python",
   "pygments_lexer": "ipython3",
   "version": "3.11.8"
  }
 },
 "nbformat": 4,
 "nbformat_minor": 2
}

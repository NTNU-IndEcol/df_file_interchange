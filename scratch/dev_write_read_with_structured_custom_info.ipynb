{
 "cells": [
  {
   "cell_type": "code",
   "execution_count": 1,
   "metadata": {},
   "outputs": [
    {
     "name": "stdout",
     "output_type": "stream",
     "text": [
      "['/home/peterma/exio_dev/repo/df_file_interchange/scratch',\n",
      " '/home/peterma/miniconda3/envs/df-file-interchange/lib/python311.zip',\n",
      " '/home/peterma/miniconda3/envs/df-file-interchange/lib/python3.11',\n",
      " '/home/peterma/miniconda3/envs/df-file-interchange/lib/python3.11/lib-dynload',\n",
      " '',\n",
      " '/home/peterma/miniconda3/envs/df-file-interchange/lib/python3.11/site-packages',\n",
      " '/home/peterma/exio_dev/repo/df_file_interchange']\n"
     ]
    }
   ],
   "source": [
    "import os\n",
    "import sys\n",
    "import pandas as pd\n",
    "import numpy as np\n",
    "from pathlib import Path\n",
    "from pprint import pprint\n",
    "\n",
    "sys.path.append(str(Path(\"../\").resolve()))\n",
    "pprint(sys.path)\n",
    "\n",
    "import df_file_interchange as fi"
   ]
  },
  {
   "cell_type": "code",
   "execution_count": null,
   "metadata": {},
   "outputs": [],
   "source": []
  },
  {
   "cell_type": "code",
   "execution_count": null,
   "metadata": {},
   "outputs": [],
   "source": []
  },
  {
   "cell_type": "code",
   "execution_count": 2,
   "metadata": {},
   "outputs": [
    {
     "data": {
      "text/html": [
       "<div>\n",
       "<style scoped>\n",
       "    .dataframe tbody tr th:only-of-type {\n",
       "        vertical-align: middle;\n",
       "    }\n",
       "\n",
       "    .dataframe tbody tr th {\n",
       "        vertical-align: top;\n",
       "    }\n",
       "\n",
       "    .dataframe thead th {\n",
       "        text-align: right;\n",
       "    }\n",
       "</style>\n",
       "<table border=\"1\" class=\"dataframe\">\n",
       "  <thead>\n",
       "    <tr style=\"text-align: right;\">\n",
       "      <th></th>\n",
       "      <th>a</th>\n",
       "      <th>b</th>\n",
       "      <th>c</th>\n",
       "      <th>d</th>\n",
       "      <th>pop</th>\n",
       "    </tr>\n",
       "  </thead>\n",
       "  <tbody>\n",
       "    <tr>\n",
       "      <th>0</th>\n",
       "      <td>0.997224</td>\n",
       "      <td>-0.961770</td>\n",
       "      <td>-0.959555</td>\n",
       "      <td>0.203895</td>\n",
       "      <td>1234</td>\n",
       "    </tr>\n",
       "    <tr>\n",
       "      <th>1</th>\n",
       "      <td>-0.390809</td>\n",
       "      <td>-0.472942</td>\n",
       "      <td>1.104313</td>\n",
       "      <td>-0.268812</td>\n",
       "      <td>5678</td>\n",
       "    </tr>\n",
       "    <tr>\n",
       "      <th>2</th>\n",
       "      <td>1.046016</td>\n",
       "      <td>-0.217292</td>\n",
       "      <td>-0.607914</td>\n",
       "      <td>-0.687597</td>\n",
       "      <td>101010</td>\n",
       "    </tr>\n",
       "  </tbody>\n",
       "</table>\n",
       "</div>"
      ],
      "text/plain": [
       "          a         b         c         d     pop\n",
       "0  0.997224 -0.961770 -0.959555  0.203895    1234\n",
       "1 -0.390809 -0.472942  1.104313 -0.268812    5678\n",
       "2  1.046016 -0.217292 -0.607914 -0.687597  101010"
      ]
     },
     "execution_count": 2,
     "metadata": {},
     "output_type": "execute_result"
    }
   ],
   "source": [
    "df = pd.DataFrame(np.random.randn(3, 4), columns=[\"a\", \"b\", \"c\", \"d\"])\n",
    "df[\"pop\"] = pd.array([1234, 5678, 101010])\n",
    "df"
   ]
  },
  {
   "cell_type": "code",
   "execution_count": 3,
   "metadata": {},
   "outputs": [],
   "source": [
    "unit_cur_a = fi.ci.unit.currency.FICurrencyUnit(unit_desc=\"USD\", unit_multiplier=1000)\n",
    "unit_cur_b = fi.ci.unit.currency.FICurrencyUnit(unit_desc=\"EUR\", unit_multiplier=1000)\n",
    "unit_cur_c = fi.ci.unit.currency.FICurrencyUnit(\n",
    "    unit_desc=\"JPY\", unit_multiplier=1000000\n",
    ")\n",
    "unit_cur_d = fi.ci.unit.currency.FICurrencyUnit(unit_desc=\"USD\", unit_multiplier=1000)\n",
    "unit_pop = fi.ci.unit.population.FIPopulationUnit(\n",
    "    unit_desc=\"people\", unit_multiplier=1.0\n",
    ")\n",
    "\n",
    "extra_info = fi.ci.structured.FIStdExtraInfo(author=\"Spud\", source=\"A simple test\")\n",
    "\n",
    "custom_info = fi.ci.structured.FIStructuredCustomInfo(\n",
    "    extra_info=extra_info,\n",
    "    col_units={\n",
    "        \"a\": unit_cur_a,\n",
    "        \"b\": unit_cur_b,\n",
    "        \"c\": unit_cur_c,\n",
    "        \"d\": unit_cur_d,\n",
    "        \"pop\": unit_pop,\n",
    "    },\n",
    ")"
   ]
  },
  {
   "cell_type": "code",
   "execution_count": 4,
   "metadata": {},
   "outputs": [],
   "source": [
    "metafile = fi.write_df_to_csv(df, Path(\"./test_with_structured_custom_info.csv\"), custom_info=custom_info)"
   ]
  },
  {
   "cell_type": "code",
   "execution_count": null,
   "metadata": {},
   "outputs": [],
   "source": [
    "context = {\n",
    "    \"clss_custom_info\": {\n",
    "        \"FIStructuredCustomInfo\": fi.ci.structured.FIStructuredCustomInfo,\n",
    "    }\n",
    "    \"clss_extra_info\": {\n",
    "        \"FIStdExtraInfo\": fi.ci.structured.FIStdExtraInfo,\n",
    "    },\n",
    "    \"clss_col_units\": {\n",
    "    \n",
    "    },\n",
    "}\n",
    "(df_reload, metainfo_reload) = fi.read_df(metafile,)"
   ]
  }
 ],
 "metadata": {
  "kernelspec": {
   "display_name": "df-file-interchange",
   "language": "python",
   "name": "python3"
  },
  "language_info": {
   "codemirror_mode": {
    "name": "ipython",
    "version": 3
   },
   "file_extension": ".py",
   "mimetype": "text/x-python",
   "name": "python",
   "nbconvert_exporter": "python",
   "pygments_lexer": "ipython3",
   "version": "3.11.8"
  }
 },
 "nbformat": 4,
 "nbformat_minor": 2
}
